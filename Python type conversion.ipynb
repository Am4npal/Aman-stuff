{
 "cells": [
  {
   "cell_type": "code",
   "execution_count": 1,
   "id": "ae25952a-cded-4317-a035-3793471758a7",
   "metadata": {},
   "outputs": [
    {
     "name": "stdout",
     "output_type": "stream",
     "text": [
      "<class 'float'>\n",
      "4.0\n"
     ]
    }
   ],
   "source": [
    "# 1. Covert a iteger to a floatig-poit umber.\n",
    "\n",
    "a=4 #int type\n",
    "a=float(a)\n",
    "\n",
    "print(type(a))\n",
    "print(a)"
   ]
  },
  {
   "cell_type": "code",
   "execution_count": 2,
   "id": "6324f38a-fd49-46ef-bfc5-9f63a76adbda",
   "metadata": {},
   "outputs": [
    {
     "name": "stdout",
     "output_type": "stream",
     "text": [
      "<class 'int'>\n",
      "5\n"
     ]
    }
   ],
   "source": [
    "# 2. Covert a float to a iteger.\n",
    "\n",
    "b=5.4 # float type\n",
    "b=int(b)\n",
    "\n",
    "print(type(b))\n",
    "print(b)"
   ]
  },
  {
   "cell_type": "code",
   "execution_count": 4,
   "id": "1b54fe0c-2bdc-42c1-9660-4092b6a57e03",
   "metadata": {},
   "outputs": [
    {
     "name": "stdout",
     "output_type": "stream",
     "text": [
      "<class 'str'>\n",
      "22\n"
     ]
    }
   ],
   "source": [
    "# 3. Covert a iteger to a strig.\n",
    "\n",
    "c=22 #int type\n",
    "c=str(c)\n",
    "\n",
    "print(type(c))\n",
    "print(c)"
   ]
  },
  {
   "cell_type": "code",
   "execution_count": 7,
   "id": "ecec4adb-2775-466b-92ab-d64b03527ad0",
   "metadata": {},
   "outputs": [
    {
     "name": "stdout",
     "output_type": "stream",
     "text": [
      "my list =  [1, 2, 3.5, 'aman', 'pal']\n",
      "Converted list into tuple =  (1, 2, 3.5, 'aman', 'pal')\n"
     ]
    }
   ],
   "source": [
    "# 4. Covert a list to a tuple.\n",
    "\n",
    "l1 = [ 1,2,3.5,\"aman\",\"pal\"]\n",
    "print(\"my list = \",l1)\n",
    "\n",
    "#convert list in tuple\n",
    "\n",
    "l1=tuple(l1)\n",
    "print(\"Converted list into tuple = \",l1)\n",
    "\n"
   ]
  },
  {
   "cell_type": "code",
   "execution_count": 8,
   "id": "492ff02d-7a93-4969-8478-c989bcb5d4a8",
   "metadata": {},
   "outputs": [
    {
     "name": "stdout",
     "output_type": "stream",
     "text": [
      "my tuple =  ('shivam', 'pwskills', 34, 67)\n",
      "converted tuple into list =  ['shivam', 'pwskills', 34, 67]\n"
     ]
    }
   ],
   "source": [
    "# 5. Covert a tuple to a list\n",
    "\n",
    "t1 = ( \"shivam\",\"pwskills\",34,67)\n",
    "print(\"my tuple = \",t1)\n",
    "\n",
    "# convert tuple into list\n",
    "\n",
    "t1=list(t1)\n",
    "print(\"converted tuple into list = \",t1)"
   ]
  },
  {
   "cell_type": "code",
   "execution_count": 3,
   "id": "b1fc7466-ccab-43f7-8f11-f4d56d296c4c",
   "metadata": {},
   "outputs": [
    {
     "name": "stdout",
     "output_type": "stream",
     "text": [
      "0b10001\n"
     ]
    }
   ],
   "source": [
    "# 6. Covert a decimal number to biary.\n",
    "\n",
    "a = 17\n",
    "\n",
    "a = bin(a)\n",
    "\n",
    "print(a)\n"
   ]
  },
  {
   "cell_type": "code",
   "execution_count": null,
   "id": "8e755723-8dd0-421e-a273-14c994115561",
   "metadata": {},
   "outputs": [],
   "source": [
    "# 6. Covert a non-zero number to boolean.\n",
    "\n",
    "\n",
    "\n"
   ]
  }
 ],
 "metadata": {
  "kernelspec": {
   "display_name": "Python 3 (ipykernel)",
   "language": "python",
   "name": "python3"
  },
  "language_info": {
   "codemirror_mode": {
    "name": "ipython",
    "version": 3
   },
   "file_extension": ".py",
   "mimetype": "text/x-python",
   "name": "python",
   "nbconvert_exporter": "python",
   "pygments_lexer": "ipython3",
   "version": "3.10.8"
  }
 },
 "nbformat": 4,
 "nbformat_minor": 5
}
